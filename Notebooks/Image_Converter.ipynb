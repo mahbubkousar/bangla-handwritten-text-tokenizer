{
  "nbformat": 4,
  "nbformat_minor": 0,
  "metadata": {
    "colab": {
      "provenance": []
    },
    "kernelspec": {
      "name": "python3",
      "display_name": "Python 3"
    },
    "language_info": {
      "name": "python"
    }
  },
  "cells": [
    {
      "cell_type": "code",
      "source": [
        "!pip install --upgrade Pillow pillow-heif"
      ],
      "metadata": {
        "colab": {
          "base_uri": "https://localhost:8080/"
        },
        "id": "G4kIt8w500Bw",
        "outputId": "3e7c7f5b-fba6-437e-8da6-af0300e4d16c"
      },
      "execution_count": null,
      "outputs": [
        {
          "output_type": "stream",
          "name": "stdout",
          "text": [
            "Requirement already satisfied: Pillow in /usr/local/lib/python3.11/dist-packages (11.3.0)\n",
            "Collecting pillow-heif\n",
            "  Downloading pillow_heif-1.1.0-cp311-cp311-manylinux_2_27_x86_64.manylinux_2_28_x86_64.whl.metadata (9.6 kB)\n",
            "Downloading pillow_heif-1.1.0-cp311-cp311-manylinux_2_27_x86_64.manylinux_2_28_x86_64.whl (5.5 MB)\n",
            "\u001b[2K   \u001b[90m━━━━━━━━━━━━━━━━━━━━━━━━━━━━━━━━━━━━━━━━\u001b[0m \u001b[32m5.5/5.5 MB\u001b[0m \u001b[31m42.0 MB/s\u001b[0m eta \u001b[36m0:00:00\u001b[0m\n",
            "\u001b[?25hInstalling collected packages: pillow-heif\n",
            "Successfully installed pillow-heif-1.1.0\n"
          ]
        }
      ]
    },
    {
      "cell_type": "code",
      "execution_count": null,
      "metadata": {
        "colab": {
          "base_uri": "https://localhost:8080/"
        },
        "id": "rGc2AYr60oWs",
        "outputId": "306682e4-a5fa-4f24-f402-665347515ef8"
      },
      "outputs": [
        {
          "output_type": "stream",
          "name": "stdout",
          "text": [
            "Pillow HEIF opener registered successfully.\n",
            "Successfully converted 'Clean_Handwriting.heic' to 'Clean_Handwriting.png'\n",
            "Successfully converted 'Fast_Writing.heic' to 'Fast_Writing.png'\n",
            "Successfully converted 'Ruled_Paper.heic' to 'Ruled_Paper.png'\n",
            "\n",
            "Conversion process finished.\n",
            "Check the directories where your original HEIC files are located for the new PNG files.\n",
            "Remember that for this script to work with actual HEIC files, you must have 'libheif' installed on your system.\n"
          ]
        }
      ],
      "source": [
        "import os\n",
        "from PIL import Image\n",
        "from pillow_heif import register_heif_opener\n",
        "\n",
        "def convert_heic_to_png(input_heic_paths):\n",
        "\n",
        "    try:\n",
        "        register_heif_opener()\n",
        "        print(\"Pillow HEIF opener registered successfully.\")\n",
        "    except Exception as e:\n",
        "        print(f\"Error registering HEIF opener: {e}\")\n",
        "        print(\"Make sure 'libheif' is installed on your system.\")\n",
        "        return\n",
        "\n",
        "    for heic_path in input_heic_paths:\n",
        "        if not os.path.exists(heic_path):\n",
        "            print(f\"Error: Input file not found: {heic_path}\")\n",
        "            continue\n",
        "\n",
        "        try:\n",
        "            base_name = os.path.basename(heic_path)\n",
        "            file_name_without_ext = os.path.splitext(base_name)[0]\n",
        "            output_png_path = os.path.join(os.path.dirname(heic_path), f\"{file_name_without_ext}.png\")\n",
        "\n",
        "            # Open the HEIC image. Pillow can now handle it thanks to pillow-heif.\n",
        "            with Image.open(heic_path) as img:\n",
        "                if img.mode != 'RGBA':\n",
        "                    img = img.convert('RGBA')\n",
        "\n",
        "                img.save(output_png_path, format=\"PNG\")\n",
        "                print(f\"Successfully converted '{heic_path}' to '{output_png_path}'\")\n",
        "\n",
        "        except Exception as e:\n",
        "            print(f\"Failed to convert '{heic_path}': {e}\")\n",
        "\n",
        "if __name__ == \"__main__\":\n",
        "    heic_files_to_convert = [\n",
        "        \"Clean_Handwriting.heic\",\n",
        "        \"Fast_Writing.heic\",\n",
        "        \"Ruled_Paper.heic\",\n",
        "    ]\n",
        "\n",
        "    for i, dummy_path in enumerate(heic_files_to_convert):\n",
        "        if not os.path.isabs(dummy_path) and not os.path.exists(os.path.dirname(dummy_path)) and os.path.dirname(dummy_path):\n",
        "            os.makedirs(os.path.dirname(dummy_path), exist_ok=True)\n",
        "\n",
        "\n",
        "        if not os.path.exists(dummy_path):\n",
        "            try:\n",
        "                temp_img = Image.new('RGB', (200, 150), color = (i*50, 100+i*20, 200-i*30))\n",
        "                temp_img.save(dummy_path.replace(\".heic\", \".jpeg\"))\n",
        "                print(f\"Created dummy JPEG (acting as HEIC) at: {dummy_path.replace('.heic', '.jpeg')}\")\n",
        "\n",
        "            except Exception as e:\n",
        "                print(f\"Could not create dummy file {dummy_path.replace('.heic', '.jpeg')}: {e}\")\n",
        "\n",
        "\n",
        "    convert_heic_to_png(heic_files_to_convert)\n",
        "\n",
        "    print(\"\\nConversion process finished.\")\n",
        "    print(\"Check the directories where your original HEIC files are located for the new PNG files.\")\n",
        "    print(\"Remember that for this script to work with actual HEIC files, you must have 'libheif' installed on your system.\")\n"
      ]
    }
  ]
}